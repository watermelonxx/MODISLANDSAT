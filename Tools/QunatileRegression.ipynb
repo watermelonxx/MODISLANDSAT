{
 "cells": [
  {
   "cell_type": "code",
   "execution_count": 9,
   "id": "d64850bc-5829-479d-82ca-14f6e8eaf54d",
   "metadata": {
    "tags": []
   },
   "outputs": [],
   "source": [
    "import warnings\n",
    "warnings.filterwarnings('default')"
   ]
  },
  {
   "cell_type": "code",
   "execution_count": 5,
   "id": "1018a1a5-6b79-4739-8921-e98986096cc2",
   "metadata": {
    "tags": []
   },
   "outputs": [],
   "source": [
    "import numpy as np\n",
    "import pandas as pd\n",
    "from matplotlib import pyplot as plt\n",
    "from sklearn.ensemble import RandomForestRegressor\n",
    "import forestci as fci\n",
    "import pickle5 as pickle"
   ]
  },
  {
   "cell_type": "code",
   "execution_count": 10,
   "id": "2ec2ff87-289a-4897-8728-cc585c93c284",
   "metadata": {
    "tags": []
   },
   "outputs": [
    {
     "ename": "AttributeError",
     "evalue": "Can't get attribute '_unpickle_block' on <module 'pandas._libs.internals' from 'C:\\\\Users\\\\casli\\\\Anaconda3\\\\envs\\\\py37\\\\lib\\\\site-packages\\\\pandas\\\\_libs\\\\internals.cp37-win_amd64.pyd'>",
     "output_type": "error",
     "traceback": [
      "\u001b[1;31m---------------------------------------------------------------------------\u001b[0m",
      "\u001b[1;31mAttributeError\u001b[0m                            Traceback (most recent call last)",
      "\u001b[1;32m~\\AppData\\Local\\Temp\\ipykernel_25780\\55442449.py\u001b[0m in \u001b[0;36m<module>\u001b[1;34m\u001b[0m\n\u001b[0;32m      1\u001b[0m \u001b[1;32mwith\u001b[0m \u001b[0mopen\u001b[0m\u001b[1;33m(\u001b[0m\u001b[1;34m'G:/cassidy/MODISLANDSAT_new/calbiomeDictLAI.pkl'\u001b[0m\u001b[1;33m,\u001b[0m \u001b[1;34m\"rb\"\u001b[0m\u001b[1;33m)\u001b[0m \u001b[1;32mas\u001b[0m \u001b[0mfh\u001b[0m\u001b[1;33m:\u001b[0m\u001b[1;33m\u001b[0m\u001b[1;33m\u001b[0m\u001b[0m\n\u001b[1;32m----> 2\u001b[1;33m     \u001b[0mdata\u001b[0m \u001b[1;33m=\u001b[0m \u001b[0mpickle\u001b[0m\u001b[1;33m.\u001b[0m\u001b[0mload\u001b[0m\u001b[1;33m(\u001b[0m\u001b[0mfh\u001b[0m\u001b[1;33m)\u001b[0m\u001b[1;33m\u001b[0m\u001b[1;33m\u001b[0m\u001b[0m\n\u001b[0m",
      "\u001b[1;31mAttributeError\u001b[0m: Can't get attribute '_unpickle_block' on <module 'pandas._libs.internals' from 'C:\\\\Users\\\\casli\\\\Anaconda3\\\\envs\\\\py37\\\\lib\\\\site-packages\\\\pandas\\\\_libs\\\\internals.cp37-win_amd64.pyd'>"
     ]
    }
   ],
   "source": [
    "with open('G:/cassidy/MODISLANDSAT_new/calbiomeDictLAI.pkl', \"rb\") as fh:\n",
    "    data = pickle.load(fh)"
   ]
  },
  {
   "cell_type": "code",
   "execution_count": 8,
   "id": "878123d5-ba2f-4e2a-a2f0-10453d5df260",
   "metadata": {},
   "outputs": [
    {
     "ename": "ValueError",
     "evalue": "unsupported pickle protocol: 5",
     "output_type": "error",
     "traceback": [
      "\u001b[1;31m---------------------------------------------------------------------------\u001b[0m",
      "\u001b[1;31mValueError\u001b[0m                                Traceback (most recent call last)",
      "\u001b[1;32m~\\AppData\\Local\\Temp\\ipykernel_25780\\4264362640.py\u001b[0m in \u001b[0;36m<module>\u001b[1;34m\u001b[0m\n\u001b[1;32m----> 1\u001b[1;33m \u001b[0mcalbiomeDictLAI\u001b[0m \u001b[1;33m=\u001b[0m \u001b[0mpd\u001b[0m\u001b[1;33m.\u001b[0m\u001b[0mread_pickle\u001b[0m\u001b[1;33m(\u001b[0m\u001b[1;34m'G:/cassidy/MODISLANDSAT_new/calbiomeDictLAI.pkl'\u001b[0m\u001b[1;33m)\u001b[0m\u001b[1;33m\u001b[0m\u001b[1;33m\u001b[0m\u001b[0m\n\u001b[0m\u001b[0;32m      2\u001b[0m \u001b[1;31m# valbiomeDictLAI = pd.read_pickle('G:/cassidy/MODISLANDSAT_new/valbiomeDictLAI.pkl')\u001b[0m\u001b[1;33m\u001b[0m\u001b[1;33m\u001b[0m\u001b[1;33m\u001b[0m\u001b[0m\n",
      "\u001b[1;32m~\\Anaconda3\\envs\\py37\\lib\\site-packages\\pandas\\io\\pickle.py\u001b[0m in \u001b[0;36mread_pickle\u001b[1;34m(filepath_or_buffer, compression, storage_options)\u001b[0m\n\u001b[0;32m    201\u001b[0m                     \u001b[1;31m# We want to silence any warnings about, e.g. moved modules.\u001b[0m\u001b[1;33m\u001b[0m\u001b[1;33m\u001b[0m\u001b[1;33m\u001b[0m\u001b[0m\n\u001b[0;32m    202\u001b[0m                     \u001b[0mwarnings\u001b[0m\u001b[1;33m.\u001b[0m\u001b[0msimplefilter\u001b[0m\u001b[1;33m(\u001b[0m\u001b[1;34m\"ignore\"\u001b[0m\u001b[1;33m,\u001b[0m \u001b[0mWarning\u001b[0m\u001b[1;33m)\u001b[0m\u001b[1;33m\u001b[0m\u001b[1;33m\u001b[0m\u001b[0m\n\u001b[1;32m--> 203\u001b[1;33m                     \u001b[1;32mreturn\u001b[0m \u001b[0mpickle\u001b[0m\u001b[1;33m.\u001b[0m\u001b[0mload\u001b[0m\u001b[1;33m(\u001b[0m\u001b[0mhandles\u001b[0m\u001b[1;33m.\u001b[0m\u001b[0mhandle\u001b[0m\u001b[1;33m)\u001b[0m  \u001b[1;31m# type: ignore[arg-type]\u001b[0m\u001b[1;33m\u001b[0m\u001b[1;33m\u001b[0m\u001b[0m\n\u001b[0m\u001b[0;32m    204\u001b[0m             \u001b[1;32mexcept\u001b[0m \u001b[0mexcs_to_catch\u001b[0m\u001b[1;33m:\u001b[0m\u001b[1;33m\u001b[0m\u001b[1;33m\u001b[0m\u001b[0m\n\u001b[0;32m    205\u001b[0m                 \u001b[1;31m# e.g.\u001b[0m\u001b[1;33m\u001b[0m\u001b[1;33m\u001b[0m\u001b[1;33m\u001b[0m\u001b[0m\n",
      "\u001b[1;31mValueError\u001b[0m: unsupported pickle protocol: 5"
     ]
    }
   ],
   "source": [
    "calbiomeDictLAI = pd.read_pickle('G:/cassidy/MODISLANDSAT_new/calbiomeDictLAI.pkl')\n",
    "# valbiomeDictLAI = pd.read_pickle('G:/cassidy/MODISLANDSAT_new/valbiomeDictLAI.pkl')"
   ]
  },
  {
   "cell_type": "code",
   "execution_count": null,
   "id": "cd8e25cc-3ea0-40e4-b165-47173be69e15",
   "metadata": {},
   "outputs": [],
   "source": [
    "dfcal = calbiomeDictLAI[6]['DF']\n",
    "dfval = valbiomeDictLAI[6]['DF'].sample(50)\n",
    "\n",
    "regressors = ['red','NIR','cosSZA','cosVZA','cosSA']\n",
    "response = 'LAI'\n",
    "\n",
    "X_train = dfcal[regressors]\n",
    "y_train = dfcal[response]\n",
    "\n",
    "X_test = dfval[regressors]\n",
    "y_test = dfval[response]"
   ]
  },
  {
   "cell_type": "code",
   "execution_count": null,
   "id": "0aef976b-8403-4a1d-adf6-60a87f6307fb",
   "metadata": {},
   "outputs": [],
   "source": [
    "rf = RandomForestRegressor(n_estimators=100,min_samples_leaf=10,max_features=5,bootstrap=True,random_state=0,verbose=0,n_jobs=-1,max_leaf_nodes=10000)\n",
    "rf.fit(X_train, y_train)"
   ]
  },
  {
   "cell_type": "markdown",
   "id": "09a66b92-b354-4ace-9b83-7abbd991f1a8",
   "metadata": {
    "tags": []
   },
   "source": [
    "## Scikit-garden"
   ]
  },
  {
   "cell_type": "code",
   "execution_count": null,
   "id": "30f2dea9-188b-470c-aaca-b7509618c11c",
   "metadata": {},
   "outputs": [],
   "source": [
    "import numpy as np\n",
    "import matplotlib.pyplot as plt\n",
    "from sklearn.datasets import load_boston\n",
    "from sklearn.model_selection import train_test_split\n",
    "from sklearn.model_selection import KFold\n",
    "from skgarden import RandomForestQuantileRegressor"
   ]
  },
  {
   "cell_type": "code",
   "execution_count": null,
   "id": "6de07912-e67e-4ddc-8293-e1f0e147789e",
   "metadata": {
    "tags": []
   },
   "outputs": [],
   "source": [
    "rfqr = RandomForestQuantileRegressor(n_estimators=100,min_samples_leaf=10,max_features=5,bootstrap=True,random_state=0,verbose=0,n_jobs=-1,max_leaf_nodes=10000)"
   ]
  },
  {
   "cell_type": "code",
   "execution_count": null,
   "id": "b4f77a11-86e0-4878-9279-5161b37e7d56",
   "metadata": {
    "tags": []
   },
   "outputs": [],
   "source": [
    "y_true_all = []\n",
    "lower = []\n",
    "upper = []\n",
    "\n",
    "for train_index, test_index in kf.split(X):\n",
    "    X_train, X_test, y_train, y_test = (\n",
    "        X[train_index], X[test_index], y[train_index], y[test_index])\n",
    "\n",
    "    rfqr.set_params(max_features=X_train.shape[1] // 3)\n",
    "    rfqr.fit(X_train, y_train)\n",
    "    y_true_all = np.concatenate((y_true_all, y_test))\n",
    "    upper = np.concatenate((upper, rfqr.predict(X_test, quantile=98.5)))\n",
    "    lower = np.concatenate((lower, rfqr.predict(X_test, quantile=2.5)))\n",
    "\n",
    "interval = upper - lower\n",
    "sort_ind = np.argsort(interval)\n",
    "y_true_all = y_true_all[sort_ind]\n",
    "upper = upper[sort_ind]\n",
    "lower = lower[sort_ind]\n",
    "mean = (upper + lower) / 2\n",
    "\n",
    "# Center such that the mean of the prediction interval is at 0.0\n",
    "y_true_all -= mean\n",
    "upper -= mean\n",
    "lower -= mean"
   ]
  },
  {
   "cell_type": "code",
   "execution_count": null,
   "id": "5c7d0954-4690-45c4-b664-940354a76cda",
   "metadata": {
    "tags": []
   },
   "outputs": [],
   "source": [
    "print(upper[0])"
   ]
  },
  {
   "cell_type": "code",
   "execution_count": null,
   "id": "a194a1cc-8b85-4ebc-b968-c7f409a32010",
   "metadata": {
    "tags": []
   },
   "outputs": [],
   "source": [
    "print(lower[0])"
   ]
  },
  {
   "cell_type": "code",
   "execution_count": null,
   "id": "19a476f9-cfbf-408e-b3e0-ca42501a8537",
   "metadata": {
    "tags": []
   },
   "outputs": [],
   "source": [
    "print(y_true_all[0])"
   ]
  },
  {
   "cell_type": "code",
   "execution_count": null,
   "id": "6f00e6b0-229f-4f8c-a147-4912e4f41544",
   "metadata": {},
   "outputs": [],
   "source": []
  },
  {
   "cell_type": "markdown",
   "id": "5f6feb6e-8530-4d4e-8572-435c5737b89f",
   "metadata": {
    "jp-MarkdownHeadingCollapsed": true,
    "tags": []
   },
   "source": [
    "## forestci"
   ]
  },
  {
   "cell_type": "code",
   "execution_count": null,
   "id": "97d9f288-9cb6-4915-931a-5206ce1f72ab",
   "metadata": {},
   "outputs": [],
   "source": [
    "# retreive mpg data from machine learning library\n",
    "dfcal = calbiomeDictLAI[1]['DF'].sample(50000)\n",
    "\n",
    "regressors = ['red','NIR','cosSZA','cosVZA','cosSA']\n",
    "response = 'LAI'\n",
    "# separate mpg data into predictors and outcome variable\n",
    "X_train = dfcal[regressors]\n",
    "y_train = dfcal[response]\n",
    "\n",
    "# split mpg data into training and test set\n",
    "# mpg_X_train, mpg_X_test, mpg_y_train, mpg_y_test = xval.train_test_split(\n",
    "#     mpg_X,\n",
    "#     mpg_y,\n",
    "#     test_size=0.25,\n",
    "#     random_state=42)\n",
    "\n",
    "# Create RandomForestRegressor\n",
    "forest = RandomForestRegressor(n_estimators=10,min_samples_leaf=10,max_features=5,bootstrap=True,random_state=0,verbose=0,n_jobs=-1,max_leaf_nodes=10000)\n",
    "forest.fit(X_train ,np.array(y_train).ravel())\n"
   ]
  },
  {
   "cell_type": "code",
   "execution_count": null,
   "id": "7913018f-e9a8-47a6-98a8-424168cb25d5",
   "metadata": {},
   "outputs": [],
   "source": [
    "dfval = valbiomeDictLAI[1]['DF'].sample(50)\n",
    "X_test = dfval[regressors]\n",
    "y_test = dfval[response]\n",
    "\n",
    "y_hat = forest.predict(X_test)\n",
    "\n",
    "# Plot predicted MPG without error bars\n",
    "plt.scatter(y_test, y_hat)\n",
    "plt.plot([0, 70], [0, 70], 'k--')\n",
    "plt.xlabel('Reference LAI')\n",
    "plt.ylabel('Predicted LAI')\n",
    "plt.show()\n",
    "\n",
    "# Calculate the variance\n",
    "V_IJ_unbiased = fci.random_forest_error(forest, X_train, X_test)\n",
    "\n",
    "# Plot error bars for predicted MPG using unbiased variance\n",
    "plt.errorbar(y_test, y_hat, yerr=np.sqrt(V_IJ_unbiased), fmt='o')\n",
    "plt.plot([0, 70], [0, 70], 'k--')\n",
    "plt.xlabel('Reference LAI')\n",
    "plt.ylabel('Predicted LAI')\n",
    "plt.show()"
   ]
  },
  {
   "cell_type": "code",
   "execution_count": null,
   "id": "f6f3c061-1d21-4a35-8ca2-d4996cd0a172",
   "metadata": {},
   "outputs": [],
   "source": [
    "V_IJ_unbiased"
   ]
  },
  {
   "cell_type": "code",
   "execution_count": null,
   "id": "0b8e334a-92af-4c8d-846e-6f8541cb91f8",
   "metadata": {},
   "outputs": [],
   "source": [
    "# retreive mpg data from machine learning library\n",
    "mpg_data = fetch_openml(data_id=196)\n",
    "\n",
    "# separate mpg data into predictors and outcome variable\n",
    "mpg_X = mpg_data[\"data\"]\n",
    "mpg_y = mpg_data[\"target\"]\n",
    "\n",
    "# remove rows where the data is nan\n",
    "not_null_sel = np.where(mpg_X.isna().sum(axis=1).values == 0)\n",
    "mpg_X = mpg_X.values[not_null_sel]\n",
    "mpg_y = mpg_y.values[not_null_sel]\n",
    "\n",
    "# split mpg data into training and test set\n",
    "mpg_X_train, mpg_X_test, mpg_y_train, mpg_y_test = xval.train_test_split(\n",
    "    mpg_X,\n",
    "    mpg_y,\n",
    "    test_size=0.25,\n",
    "    random_state=42)\n",
    "\n",
    "# Create RandomForestRegressor\n",
    "n_trees = 2000\n",
    "mpg_forest = RandomForestRegressor(n_estimators=n_trees, random_state=42)\n",
    "mpg_forest.fit(mpg_X_train, mpg_y_train)\n",
    "mpg_y_hat = mpg_forest.predict(mpg_X_test)\n",
    "\n",
    "# Plot predicted MPG without error bars\n",
    "plt.scatter(mpg_y_test, mpg_y_hat)\n",
    "plt.plot([5, 45], [5, 45], 'k--')\n",
    "plt.xlabel('Reported MPG')\n",
    "plt.ylabel('Predicted MPG')\n",
    "plt.show()\n",
    "\n",
    "# Calculate the variance\n",
    "mpg_V_IJ_unbiased = fci.random_forest_error(mpg_forest, mpg_X_train,\n",
    "                                            mpg_X_test)\n",
    "\n",
    "# Plot error bars for predicted MPG using unbiased variance\n",
    "plt.errorbar(mpg_y_test, mpg_y_hat, yerr=np.sqrt(mpg_V_IJ_unbiased), fmt='o')\n",
    "plt.plot([5, 45], [5, 45], 'k--')\n",
    "plt.xlabel('Reported MPG')\n",
    "plt.ylabel('Predicted MPG')\n",
    "plt.show()"
   ]
  },
  {
   "cell_type": "markdown",
   "id": "a8acfa9e-53b8-47a1-b5b4-9858d4764142",
   "metadata": {
    "jp-MarkdownHeadingCollapsed": true,
    "tags": []
   },
   "source": [
    "## method 3"
   ]
  },
  {
   "cell_type": "code",
   "execution_count": null,
   "id": "23426961-9ace-41ee-83fc-f90bcc04212d",
   "metadata": {},
   "outputs": [],
   "source": [
    "def pred_ints(model, X, percentile=95):\n",
    "    err_down = []\n",
    "    err_up = []\n",
    "    for x in range (len(X_test)):\n",
    "        preds = []\n",
    "        for pred in model.estimators_:\n",
    "            preds.append(pred.predict(np.array(X.iloc[x]).reshape(1, -1)))\n",
    "        err_down.append(np.percentile(preds, (100 - percentile) / 2. ))\n",
    "        err_up.append(np.percentile(preds, 100 - (100 - percentile) / 2.))\n",
    "    return err_down, err_up"
   ]
  },
  {
   "cell_type": "code",
   "execution_count": null,
   "id": "3088e42d-b1d3-4318-b6ca-520ba5a97e42",
   "metadata": {},
   "outputs": [],
   "source": [
    "err_down, err_up = pred_ints(rf, X_test, percentile=90)\n",
    " \n",
    "truth = y_test\n",
    "correct = 0.\n",
    "for i, val in enumerate(truth):\n",
    "    if err_down[i] <= val <= err_up[i]:\n",
    "        correct += 1\n",
    "print (correct/len(truth))"
   ]
  },
  {
   "cell_type": "code",
   "execution_count": null,
   "id": "0947b3ca-92eb-4b78-8985-e16b1e6304a5",
   "metadata": {},
   "outputs": [],
   "source": [
    "y_hat = rf.predict(X_test)"
   ]
  },
  {
   "cell_type": "code",
   "execution_count": null,
   "id": "a83fff63-04e1-4af1-aa2b-657352598e3b",
   "metadata": {},
   "outputs": [],
   "source": [
    "plt.errorbar(y_test, y_hat, yerr=np.subtract(err_up, err_down), ls='None', lw=1)\n",
    "plt.scatter(y_test, y_hat, s=15)\n",
    "plt.plot([0, 70], [0, 70], 'k--')\n",
    "plt.xlabel('Reference LAI')\n",
    "plt.ylabel('Predicted LAI')\n",
    "plt.show()"
   ]
  }
 ],
 "metadata": {
  "kernelspec": {
   "display_name": "Python 3 (ipykernel)",
   "language": "python",
   "name": "python3"
  },
  "language_info": {
   "codemirror_mode": {
    "name": "ipython",
    "version": 3
   },
   "file_extension": ".py",
   "mimetype": "text/x-python",
   "name": "python",
   "nbconvert_exporter": "python",
   "pygments_lexer": "ipython3",
   "version": "3.10.8"
  }
 },
 "nbformat": 4,
 "nbformat_minor": 5
}
