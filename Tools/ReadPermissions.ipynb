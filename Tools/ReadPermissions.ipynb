{
 "cells": [
  {
   "cell_type": "markdown",
   "id": "aab7bf41-0638-4742-a470-eb7dd3c91b44",
   "metadata": {
    "tags": []
   },
   "source": [
    "## Authenticate and Initialize GEE"
   ]
  },
  {
   "cell_type": "code",
   "execution_count": 1,
   "id": "552a1d69-0e40-420a-a0e2-1382d8c88b1f",
   "metadata": {},
   "outputs": [
    {
     "data": {
      "text/html": [
       "<p>To authorize access needed by Earth Engine, open the following\n",
       "        URL in a web browser and follow the instructions:</p>\n",
       "        <p><a href=https://code.earthengine.google.com/client-auth?scopes=https%3A//www.googleapis.com/auth/earthengine%20https%3A//www.googleapis.com/auth/devstorage.full_control&request_id=ziqfrKrBaM4QQKX4evsyj38AycIwepD9VRWLql7e45I&tc=-l98ncXcGjY7SWS9pC6tGEZIYtfkWS6rEktcIpIRAOM&cc=_b0tXR4onrFhxj6sJhJbHYfs12cXUimBoXNdO3oZk60>https://code.earthengine.google.com/client-auth?scopes=https%3A//www.googleapis.com/auth/earthengine%20https%3A//www.googleapis.com/auth/devstorage.full_control&request_id=ziqfrKrBaM4QQKX4evsyj38AycIwepD9VRWLql7e45I&tc=-l98ncXcGjY7SWS9pC6tGEZIYtfkWS6rEktcIpIRAOM&cc=_b0tXR4onrFhxj6sJhJbHYfs12cXUimBoXNdO3oZk60</a></p>\n",
       "        <p>The authorization workflow will generate a code, which you should paste in the box below.</p>\n",
       "        "
      ],
      "text/plain": [
       "<IPython.core.display.HTML object>"
      ]
     },
     "metadata": {},
     "output_type": "display_data"
    },
    {
     "name": "stdin",
     "output_type": "stream",
     "text": [
      "Enter verification code:  4/1AWtgzh5jrlaBEbFsmjA-H0G-YXKZUAvP5nq8iC1NtHBLd5s7BEQtnGEnRIU\n"
     ]
    },
    {
     "name": "stdout",
     "output_type": "stream",
     "text": [
      "\n",
      "Successfully saved authorization token.\n"
     ]
    }
   ],
   "source": [
    "import ee\n",
    "ee.Authenticate()\n",
    "ee.Initialize()"
   ]
  },
  {
   "cell_type": "markdown",
   "id": "a851662f-43b6-4006-8837-8b742dfee429",
   "metadata": {},
   "source": [
    "## Change Asset Read Permissions"
   ]
  },
  {
   "cell_type": "markdown",
   "id": "2bcfbb47-bf9f-43b2-bbfa-0abccc71610d",
   "metadata": {},
   "source": [
    "Gives everyone read permission to all assets in a folder"
   ]
  },
  {
   "cell_type": "code",
   "execution_count": null,
   "id": "a0efc2ec-f30b-4c2c-a254-094ece1de3a8",
   "metadata": {},
   "outputs": [
    {
     "name": "stdout",
     "output_type": "stream",
     "text": [
      "# of assets: 2647\n",
      "start\n"
     ]
    }
   ],
   "source": [
    "# Folder for which permissions need to be changed\n",
    "folder = 'users/ccrs11fy2022li/FTL_trees_LAI'\n",
    "\n",
    "# Retrieves dictionary of all assets in folder\n",
    "AssetList = ee.data.listAssets({'parent': folder})\n",
    "\n",
    "# Number of assets in folder\n",
    "length = len(AssetList['assets'])\n",
    "print('# of assets:', length)\n",
    "\n",
    "print('start')\n",
    "\n",
    "# Loop through all assets in folder to change read permissions for each one\n",
    "for i in range(length):\n",
    "    assetID = ee.data.getAssetAcl(AssetList['assets'][i]['id'])\n",
    "    # Gives read permission to everyone if not already\n",
    "    if (not('all_users_can_read' in assetID)) or (assetID['all_users_can_read'] != True):\n",
    "        print(i, 'updated')\n",
    "        # Updates read permissions of the asset\n",
    "        ee.data.setAssetAcl(AssetList['assets'][i]['name'], {'all_users_can_read': True})\n",
    "        \n",
    "print('end')"
   ]
  },
  {
   "cell_type": "code",
   "execution_count": null,
   "id": "52500fa4-d948-4c95-a9c5-e4d3db058b97",
   "metadata": {},
   "outputs": [],
   "source": []
  }
 ],
 "metadata": {
  "kernelspec": {
   "display_name": "Python 3 (ipykernel)",
   "language": "python",
   "name": "python3"
  },
  "language_info": {
   "codemirror_mode": {
    "name": "ipython",
    "version": 3
   },
   "file_extension": ".py",
   "mimetype": "text/x-python",
   "name": "python",
   "nbconvert_exporter": "python",
   "pygments_lexer": "ipython3",
   "version": "3.10.8"
  }
 },
 "nbformat": 4,
 "nbformat_minor": 5
}
